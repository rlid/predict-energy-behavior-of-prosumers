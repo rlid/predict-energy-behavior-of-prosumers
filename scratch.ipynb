{
 "cells": [
  {
   "cell_type": "code",
   "execution_count": 15,
   "id": "initial_id",
   "metadata": {
    "collapsed": true,
    "ExecuteTime": {
     "end_time": "2023-12-14T09:49:08.753031Z",
     "start_time": "2023-12-14T09:49:08.747018Z"
    }
   },
   "outputs": [],
   "source": [
    "import pandas as pd"
   ]
  },
  {
   "cell_type": "code",
   "execution_count": 16,
   "outputs": [],
   "source": [
    "revealed_targets = pd.read_csv('downloads/example_test_files/revealed_targets.csv')\n",
    "test = pd.read_csv('downloads/example_test_files/test.csv')"
   ],
   "metadata": {
    "collapsed": false,
    "ExecuteTime": {
     "end_time": "2023-12-14T09:49:08.769656Z",
     "start_time": "2023-12-14T09:49:08.750846Z"
    }
   },
   "id": "8dfd61a1daca23a1"
  },
  {
   "cell_type": "code",
   "execution_count": 17,
   "outputs": [],
   "source": [
    "revealed_targets['datetime'] = pd.to_datetime(revealed_targets['datetime'])\n",
    "test['prediction_datetime'] = pd.to_datetime(test['prediction_datetime'])"
   ],
   "metadata": {
    "collapsed": false,
    "ExecuteTime": {
     "end_time": "2023-12-14T09:49:08.773971Z",
     "start_time": "2023-12-14T09:49:08.768621Z"
    }
   },
   "id": "e5cc7e2ee1e7ba16"
  },
  {
   "cell_type": "code",
   "execution_count": 18,
   "outputs": [],
   "source": [
    "def naive_predict(test_row, revealed_targets):\n",
    "    last_known = revealed_targets[(revealed_targets.data_block_id == test_row.data_block_id) &\n",
    "                                  (revealed_targets.is_consumption == test_row.is_consumption) &\n",
    "                                  (revealed_targets.prediction_unit_id == test_row.prediction_unit_id) &\n",
    "                                  (revealed_targets.datetime.map(lambda dt: dt.time()) == test_row.prediction_datetime.time() )]\n",
    "    if len(last_known) == 0:\n",
    "        last_known = 0\n",
    "    else:\n",
    "        last_known = last_known.target.mean()\n",
    "    return last_known\n",
    "\n",
    "def naive_predict_batch(test_batch, revealed_targets):\n",
    "    target_series = test_batch.apply(lambda test_row: naive_predict(test_row, revealed_targets), axis=1)\n",
    "    target_series.name = 'target'\n",
    "    return pd.concat([test_batch[['row_id', 'data_block_id']], target_series], axis=1)"
   ],
   "metadata": {
    "collapsed": false,
    "ExecuteTime": {
     "end_time": "2023-12-14T09:49:08.780100Z",
     "start_time": "2023-12-14T09:49:08.776028Z"
    }
   },
   "id": "6cff4db38fad0ad8"
  },
  {
   "cell_type": "code",
   "execution_count": 19,
   "outputs": [
    {
     "data": {
      "text/plain": "        row_id  data_block_id   target\n0      2005872            634    2.675\n1      2005873            634  471.887\n2      2005874            634    0.000\n3      2005875            634    5.414\n4      2005876            634   13.899\n...        ...            ...      ...\n12475  2018347            637  188.167\n12476  2018348            637    0.000\n12477  2018349            637   31.484\n12478  2018350            637    0.000\n12479  2018351            637  177.056\n\n[12480 rows x 3 columns]",
      "text/html": "<div>\n<style scoped>\n    .dataframe tbody tr th:only-of-type {\n        vertical-align: middle;\n    }\n\n    .dataframe tbody tr th {\n        vertical-align: top;\n    }\n\n    .dataframe thead th {\n        text-align: right;\n    }\n</style>\n<table border=\"1\" class=\"dataframe\">\n  <thead>\n    <tr style=\"text-align: right;\">\n      <th></th>\n      <th>row_id</th>\n      <th>data_block_id</th>\n      <th>target</th>\n    </tr>\n  </thead>\n  <tbody>\n    <tr>\n      <th>0</th>\n      <td>2005872</td>\n      <td>634</td>\n      <td>2.675</td>\n    </tr>\n    <tr>\n      <th>1</th>\n      <td>2005873</td>\n      <td>634</td>\n      <td>471.887</td>\n    </tr>\n    <tr>\n      <th>2</th>\n      <td>2005874</td>\n      <td>634</td>\n      <td>0.000</td>\n    </tr>\n    <tr>\n      <th>3</th>\n      <td>2005875</td>\n      <td>634</td>\n      <td>5.414</td>\n    </tr>\n    <tr>\n      <th>4</th>\n      <td>2005876</td>\n      <td>634</td>\n      <td>13.899</td>\n    </tr>\n    <tr>\n      <th>...</th>\n      <td>...</td>\n      <td>...</td>\n      <td>...</td>\n    </tr>\n    <tr>\n      <th>12475</th>\n      <td>2018347</td>\n      <td>637</td>\n      <td>188.167</td>\n    </tr>\n    <tr>\n      <th>12476</th>\n      <td>2018348</td>\n      <td>637</td>\n      <td>0.000</td>\n    </tr>\n    <tr>\n      <th>12477</th>\n      <td>2018349</td>\n      <td>637</td>\n      <td>31.484</td>\n    </tr>\n    <tr>\n      <th>12478</th>\n      <td>2018350</td>\n      <td>637</td>\n      <td>0.000</td>\n    </tr>\n    <tr>\n      <th>12479</th>\n      <td>2018351</td>\n      <td>637</td>\n      <td>177.056</td>\n    </tr>\n  </tbody>\n</table>\n<p>12480 rows × 3 columns</p>\n</div>"
     },
     "execution_count": 19,
     "metadata": {},
     "output_type": "execute_result"
    }
   ],
   "source": [
    "predicts = naive_predict_batch(test, revealed_targets)\n",
    "predicts"
   ],
   "metadata": {
    "collapsed": false,
    "ExecuteTime": {
     "end_time": "2023-12-14T09:50:35.485394Z",
     "start_time": "2023-12-14T09:49:08.778384Z"
    }
   },
   "id": "a0b975dc11c5a0c6"
  },
  {
   "cell_type": "code",
   "execution_count": 20,
   "outputs": [
    {
     "data": {
      "text/plain": "             row_id  data_block_id        target\ncount  1.248000e+04   12480.000000  12480.000000\nmean   2.012112e+06     635.500000    387.985572\nstd    3.602810e+03       1.118079   1045.722829\nmin    2.005872e+06     634.000000      0.000000\n25%    2.008992e+06     634.750000     10.322750\n50%    2.012112e+06     635.500000     64.640500\n75%    2.015231e+06     636.250000    300.997250\nmax    2.018351e+06     637.000000  11146.496000",
      "text/html": "<div>\n<style scoped>\n    .dataframe tbody tr th:only-of-type {\n        vertical-align: middle;\n    }\n\n    .dataframe tbody tr th {\n        vertical-align: top;\n    }\n\n    .dataframe thead th {\n        text-align: right;\n    }\n</style>\n<table border=\"1\" class=\"dataframe\">\n  <thead>\n    <tr style=\"text-align: right;\">\n      <th></th>\n      <th>row_id</th>\n      <th>data_block_id</th>\n      <th>target</th>\n    </tr>\n  </thead>\n  <tbody>\n    <tr>\n      <th>count</th>\n      <td>1.248000e+04</td>\n      <td>12480.000000</td>\n      <td>12480.000000</td>\n    </tr>\n    <tr>\n      <th>mean</th>\n      <td>2.012112e+06</td>\n      <td>635.500000</td>\n      <td>387.985572</td>\n    </tr>\n    <tr>\n      <th>std</th>\n      <td>3.602810e+03</td>\n      <td>1.118079</td>\n      <td>1045.722829</td>\n    </tr>\n    <tr>\n      <th>min</th>\n      <td>2.005872e+06</td>\n      <td>634.000000</td>\n      <td>0.000000</td>\n    </tr>\n    <tr>\n      <th>25%</th>\n      <td>2.008992e+06</td>\n      <td>634.750000</td>\n      <td>10.322750</td>\n    </tr>\n    <tr>\n      <th>50%</th>\n      <td>2.012112e+06</td>\n      <td>635.500000</td>\n      <td>64.640500</td>\n    </tr>\n    <tr>\n      <th>75%</th>\n      <td>2.015231e+06</td>\n      <td>636.250000</td>\n      <td>300.997250</td>\n    </tr>\n    <tr>\n      <th>max</th>\n      <td>2.018351e+06</td>\n      <td>637.000000</td>\n      <td>11146.496000</td>\n    </tr>\n  </tbody>\n</table>\n</div>"
     },
     "execution_count": 20,
     "metadata": {},
     "output_type": "execute_result"
    }
   ],
   "source": [
    "predicts.describe()"
   ],
   "metadata": {
    "collapsed": false,
    "ExecuteTime": {
     "end_time": "2023-12-14T09:50:35.491019Z",
     "start_time": "2023-12-14T09:50:35.486335Z"
    }
   },
   "id": "77d674ba16434f89"
  },
  {
   "cell_type": "code",
   "execution_count": 20,
   "outputs": [],
   "source": [],
   "metadata": {
    "collapsed": false,
    "ExecuteTime": {
     "end_time": "2023-12-14T09:50:35.492569Z",
     "start_time": "2023-12-14T09:50:35.491382Z"
    }
   },
   "id": "48300ec129ef73bd"
  }
 ],
 "metadata": {
  "kernelspec": {
   "display_name": "Python 3",
   "language": "python",
   "name": "python3"
  },
  "language_info": {
   "codemirror_mode": {
    "name": "ipython",
    "version": 2
   },
   "file_extension": ".py",
   "mimetype": "text/x-python",
   "name": "python",
   "nbconvert_exporter": "python",
   "pygments_lexer": "ipython2",
   "version": "2.7.6"
  }
 },
 "nbformat": 4,
 "nbformat_minor": 5
}
