{
 "cells": [
  {
   "cell_type": "code",
   "execution_count": 1,
   "id": "initial_id",
   "metadata": {
    "collapsed": true,
    "ExecuteTime": {
     "end_time": "2023-12-14T10:19:32.044597149Z",
     "start_time": "2023-12-14T10:19:31.866296592Z"
    }
   },
   "outputs": [],
   "source": [
    "import pandas as pd"
   ]
  },
  {
   "cell_type": "code",
   "execution_count": 2,
   "outputs": [],
   "source": [
    "revealed_targets = pd.read_csv('downloads/example_test_files/revealed_targets.csv')\n",
    "test = pd.read_csv('downloads/example_test_files/test.csv')"
   ],
   "metadata": {
    "collapsed": false,
    "ExecuteTime": {
     "end_time": "2023-12-14T10:19:32.091265183Z",
     "start_time": "2023-12-14T10:19:32.090929041Z"
    }
   },
   "id": "8dfd61a1daca23a1"
  },
  {
   "cell_type": "code",
   "execution_count": 3,
   "outputs": [],
   "source": [
    "revealed_targets['datetime'] = pd.to_datetime(revealed_targets['datetime'])\n",
    "test['prediction_datetime'] = pd.to_datetime(test['prediction_datetime'])"
   ],
   "metadata": {
    "collapsed": false,
    "ExecuteTime": {
     "end_time": "2023-12-14T10:19:32.091685367Z",
     "start_time": "2023-12-14T10:19:32.091144062Z"
    }
   },
   "id": "e5cc7e2ee1e7ba16"
  },
  {
   "cell_type": "code",
   "execution_count": 4,
   "outputs": [],
   "source": [
    "def naive_predict(test_row, revealed_targets):\n",
    "    last_known = revealed_targets[(revealed_targets.data_block_id == test_row.data_block_id) &\n",
    "                                  (revealed_targets.is_consumption == test_row.is_consumption) &\n",
    "                                  (revealed_targets.prediction_unit_id == test_row.prediction_unit_id) &\n",
    "                                  (revealed_targets.datetime.map(lambda dt: dt.time()) == test_row.prediction_datetime.time() )]\n",
    "    if len(last_known) == 0:\n",
    "        last_known = 0\n",
    "    else:\n",
    "        last_known = last_known.target.mean()\n",
    "    return last_known\n",
    "\n",
    "def naive_predict_batch(test_batch, revealed_targets):\n",
    "    target_series = test_batch.apply(lambda test_row: naive_predict(test_row, revealed_targets), axis=1)\n",
    "    target_series.name = 'target'\n",
    "    return pd.concat([test_batch[['row_id', 'data_block_id']], target_series], axis=1)"
   ],
   "metadata": {
    "collapsed": false,
    "ExecuteTime": {
     "end_time": "2023-12-14T10:19:32.092120400Z",
     "start_time": "2023-12-14T10:19:32.091308914Z"
    }
   },
   "id": "6cff4db38fad0ad8"
  },
  {
   "cell_type": "code",
   "execution_count": 5,
   "outputs": [
    {
     "data": {
      "text/plain": "        row_id  data_block_id   target\n0      2005872            634    2.675\n1      2005873            634  471.887\n2      2005874            634    0.000\n3      2005875            634    5.414\n4      2005876            634   13.899\n...        ...            ...      ...\n12475  2018347            637  188.167\n12476  2018348            637    0.000\n12477  2018349            637   31.484\n12478  2018350            637    0.000\n12479  2018351            637  177.056\n\n[12480 rows x 3 columns]",
      "text/html": "<div>\n<style scoped>\n    .dataframe tbody tr th:only-of-type {\n        vertical-align: middle;\n    }\n\n    .dataframe tbody tr th {\n        vertical-align: top;\n    }\n\n    .dataframe thead th {\n        text-align: right;\n    }\n</style>\n<table border=\"1\" class=\"dataframe\">\n  <thead>\n    <tr style=\"text-align: right;\">\n      <th></th>\n      <th>row_id</th>\n      <th>data_block_id</th>\n      <th>target</th>\n    </tr>\n  </thead>\n  <tbody>\n    <tr>\n      <th>0</th>\n      <td>2005872</td>\n      <td>634</td>\n      <td>2.675</td>\n    </tr>\n    <tr>\n      <th>1</th>\n      <td>2005873</td>\n      <td>634</td>\n      <td>471.887</td>\n    </tr>\n    <tr>\n      <th>2</th>\n      <td>2005874</td>\n      <td>634</td>\n      <td>0.000</td>\n    </tr>\n    <tr>\n      <th>3</th>\n      <td>2005875</td>\n      <td>634</td>\n      <td>5.414</td>\n    </tr>\n    <tr>\n      <th>4</th>\n      <td>2005876</td>\n      <td>634</td>\n      <td>13.899</td>\n    </tr>\n    <tr>\n      <th>...</th>\n      <td>...</td>\n      <td>...</td>\n      <td>...</td>\n    </tr>\n    <tr>\n      <th>12475</th>\n      <td>2018347</td>\n      <td>637</td>\n      <td>188.167</td>\n    </tr>\n    <tr>\n      <th>12476</th>\n      <td>2018348</td>\n      <td>637</td>\n      <td>0.000</td>\n    </tr>\n    <tr>\n      <th>12477</th>\n      <td>2018349</td>\n      <td>637</td>\n      <td>31.484</td>\n    </tr>\n    <tr>\n      <th>12478</th>\n      <td>2018350</td>\n      <td>637</td>\n      <td>0.000</td>\n    </tr>\n    <tr>\n      <th>12479</th>\n      <td>2018351</td>\n      <td>637</td>\n      <td>177.056</td>\n    </tr>\n  </tbody>\n</table>\n<p>12480 rows × 3 columns</p>\n</div>"
     },
     "execution_count": 5,
     "metadata": {},
     "output_type": "execute_result"
    }
   ],
   "source": [
    "predicts = naive_predict_batch(test, revealed_targets)\n",
    "predicts"
   ],
   "metadata": {
    "collapsed": false,
    "ExecuteTime": {
     "end_time": "2023-12-14T10:21:12.039583974Z",
     "start_time": "2023-12-14T10:19:32.091489295Z"
    }
   },
   "id": "a0b975dc11c5a0c6"
  },
  {
   "cell_type": "code",
   "execution_count": 6,
   "outputs": [
    {
     "data": {
      "text/plain": "             row_id  data_block_id        target\ncount  1.248000e+04   12480.000000  12480.000000\nmean   2.012112e+06     635.500000    387.985572\nstd    3.602810e+03       1.118079   1045.722829\nmin    2.005872e+06     634.000000      0.000000\n25%    2.008992e+06     634.750000     10.322750\n50%    2.012112e+06     635.500000     64.640500\n75%    2.015231e+06     636.250000    300.997250\nmax    2.018351e+06     637.000000  11146.496000",
      "text/html": "<div>\n<style scoped>\n    .dataframe tbody tr th:only-of-type {\n        vertical-align: middle;\n    }\n\n    .dataframe tbody tr th {\n        vertical-align: top;\n    }\n\n    .dataframe thead th {\n        text-align: right;\n    }\n</style>\n<table border=\"1\" class=\"dataframe\">\n  <thead>\n    <tr style=\"text-align: right;\">\n      <th></th>\n      <th>row_id</th>\n      <th>data_block_id</th>\n      <th>target</th>\n    </tr>\n  </thead>\n  <tbody>\n    <tr>\n      <th>count</th>\n      <td>1.248000e+04</td>\n      <td>12480.000000</td>\n      <td>12480.000000</td>\n    </tr>\n    <tr>\n      <th>mean</th>\n      <td>2.012112e+06</td>\n      <td>635.500000</td>\n      <td>387.985572</td>\n    </tr>\n    <tr>\n      <th>std</th>\n      <td>3.602810e+03</td>\n      <td>1.118079</td>\n      <td>1045.722829</td>\n    </tr>\n    <tr>\n      <th>min</th>\n      <td>2.005872e+06</td>\n      <td>634.000000</td>\n      <td>0.000000</td>\n    </tr>\n    <tr>\n      <th>25%</th>\n      <td>2.008992e+06</td>\n      <td>634.750000</td>\n      <td>10.322750</td>\n    </tr>\n    <tr>\n      <th>50%</th>\n      <td>2.012112e+06</td>\n      <td>635.500000</td>\n      <td>64.640500</td>\n    </tr>\n    <tr>\n      <th>75%</th>\n      <td>2.015231e+06</td>\n      <td>636.250000</td>\n      <td>300.997250</td>\n    </tr>\n    <tr>\n      <th>max</th>\n      <td>2.018351e+06</td>\n      <td>637.000000</td>\n      <td>11146.496000</td>\n    </tr>\n  </tbody>\n</table>\n</div>"
     },
     "execution_count": 6,
     "metadata": {},
     "output_type": "execute_result"
    }
   ],
   "source": [
    "predicts.describe()"
   ],
   "metadata": {
    "collapsed": false,
    "ExecuteTime": {
     "end_time": "2023-12-14T10:21:12.042364836Z",
     "start_time": "2023-12-14T10:21:12.014705859Z"
    }
   },
   "id": "77d674ba16434f89"
  },
  {
   "cell_type": "code",
   "execution_count": 32,
   "outputs": [
    {
     "data": {
      "text/plain": "0   2022-03-27 02:00:00+02:00\n1                         NaT\n2   2022-03-27 04:00:00+03:00\n3   2021-10-31 02:00:00+03:00\n4                         NaT\n5   2021-10-31 04:00:00+02:00\ndtype: datetime64[ns, Europe/Tallinn]"
     },
     "execution_count": 32,
     "metadata": {},
     "output_type": "execute_result"
    }
   ],
   "source": [
    "pd.Series(\n",
    "    pd.to_datetime(\n",
    "        ['2022-03-27 02:00:00',\n",
    "         '2022-03-27 03:00:00',\n",
    "         '2022-03-27 04:00:00',\n",
    "         '2021-10-31 02:00:00',\n",
    "         '2021-10-31 03:00:00',\n",
    "         '2021-10-31 04:00:00']\n",
    "    )).dt.tz_localize('Europe/Tallinn', nonexistent='NaT', ambiguous='NaT')"
   ],
   "metadata": {
    "collapsed": false,
    "ExecuteTime": {
     "end_time": "2023-12-14T11:43:32.826766223Z",
     "start_time": "2023-12-14T11:43:32.782963168Z"
    }
   },
   "id": "1bf13a9acb9e77c2"
  },
  {
   "cell_type": "code",
   "execution_count": 40,
   "outputs": [],
   "source": [
    "train = pd.read_csv('downloads/train.csv', low_memory=False)"
   ],
   "metadata": {
    "collapsed": false,
    "ExecuteTime": {
     "end_time": "2023-12-14T11:46:22.304806668Z",
     "start_time": "2023-12-14T11:46:21.522144008Z"
    }
   },
   "id": "337f78c1d673264c"
  },
  {
   "cell_type": "code",
   "execution_count": 41,
   "outputs": [],
   "source": [
    "native_dt = pd.to_datetime(train.datetime)"
   ],
   "metadata": {
    "collapsed": false,
    "ExecuteTime": {
     "end_time": "2023-12-14T11:46:23.252976Z",
     "start_time": "2023-12-14T11:46:23.184662613Z"
    }
   },
   "id": "990441ae4b990fc1"
  },
  {
   "cell_type": "code",
   "execution_count": 43,
   "outputs": [],
   "source": [
    "train.datetime = native_dt.dt.tz_localize(\n",
    "    'Europe/Tallinn', nonexistent='NaT', ambiguous='NaT')"
   ],
   "metadata": {
    "collapsed": false,
    "ExecuteTime": {
     "end_time": "2023-12-14T11:46:37.926782139Z",
     "start_time": "2023-12-14T11:46:37.884955349Z"
    }
   },
   "id": "448fa6df368cfdb"
  },
  {
   "cell_type": "code",
   "execution_count": 44,
   "outputs": [
    {
     "data": {
      "text/plain": "        county  is_business  product_type   target  is_consumption  \\\n634732       0            0             1    0.812               0   \n634733       0            0             1  490.703               1   \n634866       0            0             1      NaN               0   \n634867       0            0             1      NaN               1   \n635000       0            0             1    0.213               0   \n635001       0            0             1  488.763               1   \n\n                        datetime  data_block_id  row_id  prediction_unit_id  \n634732 2022-03-27 02:00:00+02:00            207  634732                   0  \n634733 2022-03-27 02:00:00+02:00            207  634733                   0  \n634866                       NaT            207  634866                   0  \n634867                       NaT            207  634867                   0  \n635000 2022-03-27 04:00:00+03:00            207  635000                   0  \n635001 2022-03-27 04:00:00+03:00            207  635001                   0  ",
      "text/html": "<div>\n<style scoped>\n    .dataframe tbody tr th:only-of-type {\n        vertical-align: middle;\n    }\n\n    .dataframe tbody tr th {\n        vertical-align: top;\n    }\n\n    .dataframe thead th {\n        text-align: right;\n    }\n</style>\n<table border=\"1\" class=\"dataframe\">\n  <thead>\n    <tr style=\"text-align: right;\">\n      <th></th>\n      <th>county</th>\n      <th>is_business</th>\n      <th>product_type</th>\n      <th>target</th>\n      <th>is_consumption</th>\n      <th>datetime</th>\n      <th>data_block_id</th>\n      <th>row_id</th>\n      <th>prediction_unit_id</th>\n    </tr>\n  </thead>\n  <tbody>\n    <tr>\n      <th>634732</th>\n      <td>0</td>\n      <td>0</td>\n      <td>1</td>\n      <td>0.812</td>\n      <td>0</td>\n      <td>2022-03-27 02:00:00+02:00</td>\n      <td>207</td>\n      <td>634732</td>\n      <td>0</td>\n    </tr>\n    <tr>\n      <th>634733</th>\n      <td>0</td>\n      <td>0</td>\n      <td>1</td>\n      <td>490.703</td>\n      <td>1</td>\n      <td>2022-03-27 02:00:00+02:00</td>\n      <td>207</td>\n      <td>634733</td>\n      <td>0</td>\n    </tr>\n    <tr>\n      <th>634866</th>\n      <td>0</td>\n      <td>0</td>\n      <td>1</td>\n      <td>NaN</td>\n      <td>0</td>\n      <td>NaT</td>\n      <td>207</td>\n      <td>634866</td>\n      <td>0</td>\n    </tr>\n    <tr>\n      <th>634867</th>\n      <td>0</td>\n      <td>0</td>\n      <td>1</td>\n      <td>NaN</td>\n      <td>1</td>\n      <td>NaT</td>\n      <td>207</td>\n      <td>634867</td>\n      <td>0</td>\n    </tr>\n    <tr>\n      <th>635000</th>\n      <td>0</td>\n      <td>0</td>\n      <td>1</td>\n      <td>0.213</td>\n      <td>0</td>\n      <td>2022-03-27 04:00:00+03:00</td>\n      <td>207</td>\n      <td>635000</td>\n      <td>0</td>\n    </tr>\n    <tr>\n      <th>635001</th>\n      <td>0</td>\n      <td>0</td>\n      <td>1</td>\n      <td>488.763</td>\n      <td>1</td>\n      <td>2022-03-27 04:00:00+03:00</td>\n      <td>207</td>\n      <td>635001</td>\n      <td>0</td>\n    </tr>\n  </tbody>\n</table>\n</div>"
     },
     "execution_count": 44,
     "metadata": {},
     "output_type": "execute_result"
    }
   ],
   "source": [
    "train[(train.prediction_unit_id == 0) & (native_dt >= pd.to_datetime('2022-03-27 02:00:00')) & (native_dt <= pd.to_datetime('2022-03-27 04:00:00'))]"
   ],
   "metadata": {
    "collapsed": false,
    "ExecuteTime": {
     "end_time": "2023-12-14T11:46:45.943144963Z",
     "start_time": "2023-12-14T11:46:45.929052522Z"
    }
   },
   "id": "6b6ffe3080a8e6d9"
  },
  {
   "cell_type": "code",
   "execution_count": 62,
   "outputs": [
    {
     "data": {
      "text/plain": "        county  is_business  product_type   target  is_consumption  \\\n178812       0            0             1    0.000               0   \n178813       0            0             1  166.141               1   \n178938       0            0             1      NaN               0   \n178939       0            0             1      NaN               1   \n179064       0            0             1    0.000               0   \n179065       0            0             1  174.856               1   \n\n                        datetime  data_block_id  row_id  prediction_unit_id  \n178812 2021-10-31 02:00:00+03:00             60  178812                   0  \n178813 2021-10-31 02:00:00+03:00             60  178813                   0  \n178938                       NaT             60  178938                   0  \n178939                       NaT             60  178939                   0  \n179064 2021-10-31 04:00:00+02:00             60  179064                   0  \n179065 2021-10-31 04:00:00+02:00             60  179065                   0  ",
      "text/html": "<div>\n<style scoped>\n    .dataframe tbody tr th:only-of-type {\n        vertical-align: middle;\n    }\n\n    .dataframe tbody tr th {\n        vertical-align: top;\n    }\n\n    .dataframe thead th {\n        text-align: right;\n    }\n</style>\n<table border=\"1\" class=\"dataframe\">\n  <thead>\n    <tr style=\"text-align: right;\">\n      <th></th>\n      <th>county</th>\n      <th>is_business</th>\n      <th>product_type</th>\n      <th>target</th>\n      <th>is_consumption</th>\n      <th>datetime</th>\n      <th>data_block_id</th>\n      <th>row_id</th>\n      <th>prediction_unit_id</th>\n    </tr>\n  </thead>\n  <tbody>\n    <tr>\n      <th>178812</th>\n      <td>0</td>\n      <td>0</td>\n      <td>1</td>\n      <td>0.000</td>\n      <td>0</td>\n      <td>2021-10-31 02:00:00+03:00</td>\n      <td>60</td>\n      <td>178812</td>\n      <td>0</td>\n    </tr>\n    <tr>\n      <th>178813</th>\n      <td>0</td>\n      <td>0</td>\n      <td>1</td>\n      <td>166.141</td>\n      <td>1</td>\n      <td>2021-10-31 02:00:00+03:00</td>\n      <td>60</td>\n      <td>178813</td>\n      <td>0</td>\n    </tr>\n    <tr>\n      <th>178938</th>\n      <td>0</td>\n      <td>0</td>\n      <td>1</td>\n      <td>NaN</td>\n      <td>0</td>\n      <td>NaT</td>\n      <td>60</td>\n      <td>178938</td>\n      <td>0</td>\n    </tr>\n    <tr>\n      <th>178939</th>\n      <td>0</td>\n      <td>0</td>\n      <td>1</td>\n      <td>NaN</td>\n      <td>1</td>\n      <td>NaT</td>\n      <td>60</td>\n      <td>178939</td>\n      <td>0</td>\n    </tr>\n    <tr>\n      <th>179064</th>\n      <td>0</td>\n      <td>0</td>\n      <td>1</td>\n      <td>0.000</td>\n      <td>0</td>\n      <td>2021-10-31 04:00:00+02:00</td>\n      <td>60</td>\n      <td>179064</td>\n      <td>0</td>\n    </tr>\n    <tr>\n      <th>179065</th>\n      <td>0</td>\n      <td>0</td>\n      <td>1</td>\n      <td>174.856</td>\n      <td>1</td>\n      <td>2021-10-31 04:00:00+02:00</td>\n      <td>60</td>\n      <td>179065</td>\n      <td>0</td>\n    </tr>\n  </tbody>\n</table>\n</div>"
     },
     "execution_count": 62,
     "metadata": {},
     "output_type": "execute_result"
    }
   ],
   "source": [
    "train[(train.prediction_unit_id == 0) & (native_dt >= pd.to_datetime('2021-10-31 02:00:00')) & (native_dt <= pd.to_datetime('2021-10-31 04:00:00'))]"
   ],
   "metadata": {
    "collapsed": false,
    "ExecuteTime": {
     "end_time": "2023-12-14T12:34:44.136453349Z",
     "start_time": "2023-12-14T12:34:44.084134631Z"
    }
   },
   "id": "52f3a8ef2868f08f"
  },
  {
   "cell_type": "code",
   "execution_count": null,
   "outputs": [],
   "source": [],
   "metadata": {
    "collapsed": false
   },
   "id": "d9e7667325bb40e8"
  }
 ],
 "metadata": {
  "kernelspec": {
   "display_name": "Python 3",
   "language": "python",
   "name": "python3"
  },
  "language_info": {
   "codemirror_mode": {
    "name": "ipython",
    "version": 2
   },
   "file_extension": ".py",
   "mimetype": "text/x-python",
   "name": "python",
   "nbconvert_exporter": "python",
   "pygments_lexer": "ipython2",
   "version": "2.7.6"
  }
 },
 "nbformat": 4,
 "nbformat_minor": 5
}
